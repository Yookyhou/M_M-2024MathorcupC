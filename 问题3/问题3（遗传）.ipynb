{
 "cells": [
  {
   "cell_type": "code",
   "outputs": [],
   "source": [
    "import pandas as pd\n",
    "import random\n",
    "from collections import defaultdict\n",
    "\n",
    "# 读取数据\n",
    "data = pd.read_csv('结果4.csv')\n",
    "\n",
    "# 定义班次时间范围\n",
    "shifts = {\n",
    "    \"00:00-08:00\": range(0, 8),\n",
    "    \"05:00-13:00\": range(5, 13),\n",
    "    \"08:00-16:00\": range(8, 16),\n",
    "    \"12:00-20:00\": range(12, 20),\n",
    "    \"14:00-22:00\": range(14, 22),\n",
    "    \"16:00-24:00\": range(16, 24)\n",
    "}\n",
    "\n",
    "# 遗传算法参数\n",
    "num_generations = 30\n",
    "population_size = 50\n",
    "num_workers = 60\n",
    "num_shifts = 6\n",
    "\n",
    "# 循环每个分拣中心执行优化\n",
    "for center in data['分拣中心'].unique():\n",
    "    # 过滤特定分拣中心的数据\n",
    "    center_data = data[data['分拣中心'] == center]\n",
    "\n",
    "    # 按日期和班次整理每小时数据\n",
    "    shift_data = {}\n",
    "    for shift, hours in shifts.items():\n",
    "        mask = center_data['小时'].isin(hours)\n",
    "        grouped = center_data.loc[mask].groupby('日期')['货量'].sum()\n",
    "        shift_data[shift] = grouped.to_dict()\n",
    "\n",
    "    dates = sorted(center_data['日期'].unique())\n",
    "\n",
    "    # 染色体表示和适应度函数\n",
    "    def create_chromosome():\n",
    "        chromosome = {}\n",
    "        for date in dates:\n",
    "            workers_daily_schedule = {worker: None for worker in range(num_workers)}\n",
    "            for shift_key in shifts.keys():\n",
    "                available_workers = [w for w, s in workers_daily_schedule.items() if s is None]\n",
    "                num_regulars = random.randint(1, min(10, len(available_workers)))\n",
    "                regulars = random.sample(available_workers, k=num_regulars)\n",
    "                for reg in regulars:\n",
    "                    workers_daily_schedule[reg] = shift_key\n",
    "                \n",
    "                chromosome[(date, shift_key)] = {\n",
    "                    'regulars': regulars,\n",
    "                    'temps': random.randint(1, 5)\n",
    "                }\n",
    "        return chromosome\n",
    "\n",
    "    def calculate_fitness(chromosome):\n",
    "        fitness = 0\n",
    "        total_worker_days = 0  # 新增变量，用于计算总人天数\n",
    "        worker_days = defaultdict(int)\n",
    "    \n",
    "        for (day, shift_key), info in chromosome.items():\n",
    "            for worker in info['regulars']:\n",
    "                worker_days[worker] += 1\n",
    "    \n",
    "            # 计算当前班次的总出勤人数（正式工 + 临时工）\n",
    "            total_workers = len(info['regulars']) + info['temps']\n",
    "            total_worker_days += total_workers  # 累加总人天数\n",
    "    \n",
    "            # 原有的适应度评估\n",
    "            fitness += len(info['regulars']) * 1 + info['temps'] * 0.8\n",
    "            required_output = shift_data[shift_key].get(day, 0)\n",
    "            cargo_met = 25 * len(info['regulars']) + 20 * info['temps']\n",
    "            if cargo_met < required_output:\n",
    "                deficit = required_output - cargo_met\n",
    "                fitness -= deficit * 10\n",
    "            else:\n",
    "                fitness += required_output\n",
    "    \n",
    "        # 将总人天数的影响合并到适应度计算中，由于目标是最小化总人天数，\n",
    "        # 我们可以将总人天数作为一个惩罚项添加到适应度中\n",
    "        fitness += total_worker_days  # 可以调整这里的权重以强调总人天数的影响\n",
    "    \n",
    "        return fitness\n",
    "\n",
    "\n",
    " "
   ],
   "metadata": {
    "collapsed": false,
    "ExecuteTime": {
     "end_time": "2024-04-14T05:54:29.008135Z",
     "start_time": "2024-04-14T05:54:28.835831Z"
    }
   },
   "id": "8fe5f85f9819a7c6",
   "execution_count": 36
  },
  {
   "cell_type": "code",
   "outputs": [],
   "source": [
    "# 选择\n",
    "def select(population):\n",
    "    sorted_population = sorted(population, key=calculate_fitness)\n",
    "    return sorted_population[:len(population)//2]\n",
    "\n",
    "\n",
    "# 交叉\n",
    "def crossover(chromosome1, chromosome2):\n",
    "    child = chromosome1.copy()\n",
    "    crossover_point = random.randint(0, len(chromosome1))\n",
    "    crossover_keys = list(chromosome1.keys())[crossover_point:]\n",
    "    for key in crossover_keys:\n",
    "        child[key] = chromosome2[key]\n",
    "    return child\n",
    "\n",
    "# 变异\n",
    "def mutate(chromosome):\n",
    "    mutation_key = random.choice(list(chromosome.keys()))\n",
    "    chromosome[mutation_key]['regulars'] = random.sample(range(num_workers), k=random.randint(1, 10))\n",
    "    chromosome[mutation_key]['temps'] = random.randint(1, 5)\n",
    "    return chromosome\n"
   ],
   "metadata": {
    "collapsed": false,
    "ExecuteTime": {
     "end_time": "2024-04-14T05:54:29.268644Z",
     "start_time": "2024-04-14T05:54:29.265722Z"
    }
   },
   "id": "818083f62ece472d",
   "execution_count": 37
  },
  {
   "cell_type": "code",
   "outputs": [
    {
     "data": {
      "text/plain": "{('2023/12/01', '00:00-08:00'): {'regulars': [4], 'temps': 4},\n ('2023/12/01', '05:00-13:00'): {'regulars': [57, 51], 'temps': 2},\n ('2023/12/01', '08:00-16:00'): {'regulars': [35], 'temps': 5},\n ('2023/12/01', '12:00-20:00'): {'regulars': [27], 'temps': 4},\n ('2023/12/01', '14:00-22:00'): {'regulars': [39], 'temps': 3},\n ('2023/12/01', '16:00-24:00'): {'regulars': [9, 42, 32, 0, 49, 48, 2, 37],\n  'temps': 3},\n ('2023/12/02', '00:00-08:00'): {'regulars': [39, 31, 46, 55], 'temps': 4},\n ('2023/12/02', '05:00-13:00'): {'regulars': [17, 32], 'temps': 1},\n ('2023/12/02', '08:00-16:00'): {'regulars': [8, 22, 25], 'temps': 5},\n ('2023/12/02', '12:00-20:00'): {'regulars': [41, 56, 38, 44, 7, 2, 40],\n  'temps': 2},\n ('2023/12/02', '14:00-22:00'): {'regulars': [52, 47, 9], 'temps': 1},\n ('2023/12/02', '16:00-24:00'): {'regulars': [50, 33, 15, 4, 40], 'temps': 4},\n ('2023/12/03', '00:00-08:00'): {'regulars': [8, 38, 59, 29, 16, 48, 5, 56],\n  'temps': 3},\n ('2023/12/03', '05:00-13:00'): {'regulars': [19, 0, 18], 'temps': 3},\n ('2023/12/03', '08:00-16:00'): {'regulars': [25, 12, 7, 20], 'temps': 2},\n ('2023/12/03', '12:00-20:00'): {'regulars': [42, 58], 'temps': 1},\n ('2023/12/03', '14:00-22:00'): {'regulars': [18, 39, 23], 'temps': 2},\n ('2023/12/03', '16:00-24:00'): {'regulars': [2, 15, 37, 45, 19, 1],\n  'temps': 3},\n ('2023/12/04', '00:00-08:00'): {'regulars': [20, 15, 19, 58, 30, 50, 27, 39],\n  'temps': 1},\n ('2023/12/04', '05:00-13:00'): {'regulars': [57], 'temps': 4},\n ('2023/12/04', '08:00-16:00'): {'regulars': [50], 'temps': 5},\n ('2023/12/04',\n  '12:00-20:00'): {'regulars': [56,\n   9,\n   33,\n   34,\n   59,\n   39,\n   15,\n   58,\n   31], 'temps': 1},\n ('2023/12/04', '14:00-22:00'): {'regulars': [19, 30, 37, 29], 'temps': 5},\n ('2023/12/04', '16:00-24:00'): {'regulars': [23, 16, 22, 55, 2, 43],\n  'temps': 3},\n ('2023/12/05',\n  '00:00-08:00'): {'regulars': [9, 44, 17, 12, 2, 56, 38, 28, 42], 'temps': 1},\n ('2023/12/05', '05:00-13:00'): {'regulars': [3], 'temps': 1},\n ('2023/12/05',\n  '08:00-16:00'): {'regulars': [52, 13, 31, 15, 25, 23, 20, 26, 36],\n  'temps': 2},\n ('2023/12/05', '12:00-20:00'): {'regulars': [9, 30, 15, 41, 48, 12, 24],\n  'temps': 2},\n ('2023/12/05', '14:00-22:00'): {'regulars': [13], 'temps': 1},\n ('2023/12/05', '16:00-24:00'): {'regulars': [47, 10, 17, 3, 5, 31],\n  'temps': 1},\n ('2023/12/06', '00:00-08:00'): {'regulars': [6, 35, 23, 44, 45, 55, 32, 49],\n  'temps': 1},\n ('2023/12/06', '05:00-13:00'): {'regulars': [8, 47, 1, 40, 11, 2, 43, 5],\n  'temps': 3},\n ('2023/12/06', '08:00-16:00'): {'regulars': [48, 50, 7, 46, 27, 10, 58, 34],\n  'temps': 1},\n ('2023/12/06', '12:00-20:00'): {'regulars': [29, 59, 22, 39], 'temps': 3},\n ('2023/12/06', '14:00-22:00'): {'regulars': [20, 26, 23, 56], 'temps': 1},\n ('2023/12/06', '16:00-24:00'): {'regulars': [49, 52, 47, 23, 27, 4, 19],\n  'temps': 1},\n ('2023/12/07',\n  '00:00-08:00'): {'regulars': [52,\n   7,\n   53,\n   37,\n   12,\n   45,\n   13,\n   3,\n   39,\n   55], 'temps': 3},\n ('2023/12/07', '05:00-13:00'): {'regulars': [11], 'temps': 1},\n ('2023/12/07', '08:00-16:00'): {'regulars': [26, 16, 48, 51], 'temps': 4},\n ('2023/12/07', '12:00-20:00'): {'regulars': [18, 53, 11, 22, 31, 36, 17],\n  'temps': 5},\n ('2023/12/07', '14:00-22:00'): {'regulars': [40], 'temps': 3},\n ('2023/12/07', '16:00-24:00'): {'regulars': [29, 6, 10, 38, 50], 'temps': 5},\n ('2023/12/08', '00:00-08:00'): {'regulars': [9, 31], 'temps': 2},\n ('2023/12/08', '05:00-13:00'): {'regulars': [44, 40, 8, 39, 37], 'temps': 4},\n ('2023/12/08', '08:00-16:00'): {'regulars': [49, 22, 16, 7], 'temps': 3},\n ('2023/12/08', '12:00-20:00'): {'regulars': [47, 11], 'temps': 3},\n ('2023/12/08', '14:00-22:00'): {'regulars': [49, 48], 'temps': 1},\n ('2023/12/08', '16:00-24:00'): {'regulars': [17, 56, 0, 59, 45, 42, 13, 15],\n  'temps': 3},\n ('2023/12/09', '00:00-08:00'): {'regulars': [42, 58, 0], 'temps': 5},\n ('2023/12/09', '05:00-13:00'): {'regulars': [46], 'temps': 3},\n ('2023/12/09', '08:00-16:00'): {'regulars': [16, 23, 22, 21, 45, 20, 4, 52],\n  'temps': 1},\n ('2023/12/09', '12:00-20:00'): {'regulars': [48, 39, 55, 14, 37, 6, 25],\n  'temps': 2},\n ('2023/12/09', '14:00-22:00'): {'regulars': [30, 47], 'temps': 1},\n ('2023/12/09', '16:00-24:00'): {'regulars': [24, 19, 51, 29, 43], 'temps': 1},\n ('2023/12/10',\n  '00:00-08:00'): {'regulars': [24,\n   40,\n   16,\n   33,\n   38,\n   51,\n   26,\n   7,\n   28], 'temps': 3},\n ('2023/12/10',\n  '05:00-13:00'): {'regulars': [19,\n   23,\n   10,\n   12,\n   1,\n   11,\n   43,\n   14,\n   30], 'temps': 3},\n ('2023/12/10', '08:00-16:00'): {'regulars': [10], 'temps': 3},\n ('2023/12/10', '12:00-20:00'): {'regulars': [44, 35, 51, 14, 1, 29, 46, 2],\n  'temps': 5},\n ('2023/12/10', '14:00-22:00'): {'regulars': [23, 28], 'temps': 5},\n ('2023/12/10', '16:00-24:00'): {'regulars': [50, 37, 40, 1], 'temps': 3},\n ('2023/12/11',\n  '00:00-08:00'): {'regulars': [43,\n   58,\n   1,\n   44,\n   26,\n   23,\n   31,\n   48,\n   28,\n   0], 'temps': 5},\n ('2023/12/11', '05:00-13:00'): {'regulars': [21], 'temps': 1},\n ('2023/12/11',\n  '08:00-16:00'): {'regulars': [2, 35, 34, 0, 28, 57, 31, 44, 52], 'temps': 2},\n ('2023/12/11', '12:00-20:00'): {'regulars': [25, 51, 55, 17, 22], 'temps': 1},\n ('2023/12/11', '14:00-22:00'): {'regulars': [48], 'temps': 1},\n ('2023/12/11', '16:00-24:00'): {'regulars': [56], 'temps': 3},\n ('2023/12/12',\n  '00:00-08:00'): {'regulars': [52, 56, 23, 54, 40, 42, 45, 7, 11],\n  'temps': 1},\n ('2023/12/12', '05:00-13:00'): {'regulars': [4, 49], 'temps': 2},\n ('2023/12/12', '08:00-16:00'): {'regulars': [5], 'temps': 2},\n ('2023/12/12',\n  '12:00-20:00'): {'regulars': [29, 36, 57, 37, 47, 41, 19, 12, 48],\n  'temps': 2},\n ('2023/12/12',\n  '14:00-22:00'): {'regulars': [22, 4, 56, 28, 13, 46, 50, 42, 7], 'temps': 1},\n ('2023/12/12', '16:00-24:00'): {'regulars': [38, 20, 27, 26, 46], 'temps': 5},\n ('2023/12/13', '00:00-08:00'): {'regulars': [55], 'temps': 2},\n ('2023/12/13', '05:00-13:00'): {'regulars': [27, 26], 'temps': 3},\n ('2023/12/13', '08:00-16:00'): {'regulars': [2], 'temps': 5},\n ('2023/12/13', '12:00-20:00'): {'regulars': [57, 15], 'temps': 5},\n ('2023/12/13', '14:00-22:00'): {'regulars': [58], 'temps': 4},\n ('2023/12/13', '16:00-24:00'): {'regulars': [45, 44], 'temps': 2},\n ('2023/12/14', '00:00-08:00'): {'regulars': [22, 41, 18, 31], 'temps': 2},\n ('2023/12/14', '05:00-13:00'): {'regulars': [24, 13], 'temps': 4},\n ('2023/12/14', '08:00-16:00'): {'regulars': [35, 55, 48], 'temps': 3},\n ('2023/12/14', '12:00-20:00'): {'regulars': [49, 16, 56], 'temps': 1},\n ('2023/12/14', '14:00-22:00'): {'regulars': [5, 52, 43, 17, 19, 58, 12, 23],\n  'temps': 5},\n ('2023/12/14',\n  '16:00-24:00'): {'regulars': [50,\n   22,\n   3,\n   19,\n   10,\n   46,\n   55,\n   11,\n   41,\n   30], 'temps': 3},\n ('2023/12/15', '00:00-08:00'): {'regulars': [47], 'temps': 2},\n ('2023/12/15', '05:00-13:00'): {'regulars': [37, 6, 46, 12, 38, 48],\n  'temps': 1},\n ('2023/12/15', '08:00-16:00'): {'regulars': [2, 52, 49, 26, 48, 23, 3, 41, 4],\n  'temps': 2},\n ('2023/12/15', '12:00-20:00'): {'regulars': [12, 27, 46, 59, 6, 24],\n  'temps': 3},\n ('2023/12/15', '14:00-22:00'): {'regulars': [57], 'temps': 3},\n ('2023/12/15', '16:00-24:00'): {'regulars': [44, 37, 0, 40, 50, 45, 55],\n  'temps': 1},\n ('2023/12/16', '00:00-08:00'): {'regulars': [15, 54, 36, 24, 39, 53, 29],\n  'temps': 1},\n ('2023/12/16', '05:00-13:00'): {'regulars': [22, 19, 55], 'temps': 1},\n ('2023/12/16', '08:00-16:00'): {'regulars': [14, 9, 23, 41, 57], 'temps': 2},\n ('2023/12/16', '12:00-20:00'): {'regulars': [53, 27, 11], 'temps': 5},\n ('2023/12/16', '14:00-22:00'): {'regulars': [51], 'temps': 2},\n ('2023/12/16', '16:00-24:00'): {'regulars': [3, 5, 47, 2, 44, 0, 8],\n  'temps': 2},\n ('2023/12/17', '00:00-08:00'): {'regulars': [21, 14, 28, 57, 58, 38],\n  'temps': 2},\n ('2023/12/17', '05:00-13:00'): {'regulars': [1, 40, 52, 48, 13, 17, 22],\n  'temps': 3},\n ('2023/12/17', '08:00-16:00'): {'regulars': [18, 48], 'temps': 3},\n ('2023/12/17', '12:00-20:00'): {'regulars': [51, 56, 46], 'temps': 1},\n ('2023/12/17', '14:00-22:00'): {'regulars': [6, 8, 0, 5], 'temps': 4},\n ('2023/12/17', '16:00-24:00'): {'regulars': [5], 'temps': 1},\n ('2023/12/18', '00:00-08:00'): {'regulars': [38], 'temps': 4},\n ('2023/12/18', '05:00-13:00'): {'regulars': [33, 30, 22, 21], 'temps': 2},\n ('2023/12/18', '08:00-16:00'): {'regulars': [3, 16, 59, 21, 4, 52],\n  'temps': 2},\n ('2023/12/18', '12:00-20:00'): {'regulars': [2, 12], 'temps': 5},\n ('2023/12/18', '14:00-22:00'): {'regulars': [56, 39, 41, 43, 8], 'temps': 1},\n ('2023/12/18', '16:00-24:00'): {'regulars': [45], 'temps': 1},\n ('2023/12/19', '00:00-08:00'): {'regulars': [36, 49, 40, 27, 2, 58],\n  'temps': 2},\n ('2023/12/19', '05:00-13:00'): {'regulars': [20, 9, 47, 31, 37, 52],\n  'temps': 2},\n ('2023/12/19', '08:00-16:00'): {'regulars': [10, 38, 21, 8, 13, 57, 54],\n  'temps': 1},\n ('2023/12/19', '12:00-20:00'): {'regulars': [26], 'temps': 2},\n ('2023/12/19', '14:00-22:00'): {'regulars': [35, 23, 34], 'temps': 1},\n ('2023/12/19', '16:00-24:00'): {'regulars': [29, 28, 24, 40], 'temps': 4},\n ('2023/12/20', '00:00-08:00'): {'regulars': [31, 25], 'temps': 4},\n ('2023/12/20', '05:00-13:00'): {'regulars': [8, 1, 20], 'temps': 1},\n ('2023/12/20', '08:00-16:00'): {'regulars': [53, 9, 49], 'temps': 1},\n ('2023/12/20', '12:00-20:00'): {'regulars': [13, 25, 1], 'temps': 1},\n ('2023/12/20', '14:00-22:00'): {'regulars': [36, 18, 4, 0, 31], 'temps': 4},\n ('2023/12/20', '16:00-24:00'): {'regulars': [56, 9, 5], 'temps': 1},\n ('2023/12/21', '00:00-08:00'): {'regulars': [44, 40, 24, 41, 33, 10, 53],\n  'temps': 3},\n ('2023/12/21', '05:00-13:00'): {'regulars': [11, 4], 'temps': 1},\n ('2023/12/21', '08:00-16:00'): {'regulars': [35, 42], 'temps': 2},\n ('2023/12/21', '12:00-20:00'): {'regulars': [3, 7], 'temps': 5},\n ('2023/12/21', '14:00-22:00'): {'regulars': [47, 17, 5, 49, 13, 27, 57],\n  'temps': 1},\n ('2023/12/21', '16:00-24:00'): {'regulars': [29, 56, 38, 24, 44], 'temps': 3},\n ('2023/12/22', '00:00-08:00'): {'regulars': [24, 50, 49, 51, 39, 10, 40, 16],\n  'temps': 3},\n ('2023/12/22', '05:00-13:00'): {'regulars': [21, 33, 20, 9, 29], 'temps': 1},\n ('2023/12/22', '08:00-16:00'): {'regulars': [13, 36], 'temps': 3},\n ('2023/12/22', '12:00-20:00'): {'regulars': [49, 5, 32, 28], 'temps': 1},\n ('2023/12/22', '14:00-22:00'): {'regulars': [27, 44], 'temps': 5},\n ('2023/12/22', '16:00-24:00'): {'regulars': [14, 19, 31], 'temps': 1},\n ('2023/12/23', '00:00-08:00'): {'regulars': [21, 38, 4, 9, 26, 42, 48, 40],\n  'temps': 5},\n ('2023/12/23', '05:00-13:00'): {'regulars': [41, 28, 37], 'temps': 5},\n ('2023/12/23', '08:00-16:00'): {'regulars': [23], 'temps': 1},\n ('2023/12/23', '12:00-20:00'): {'regulars': [0, 18, 39, 13, 16, 24],\n  'temps': 3},\n ('2023/12/23', '14:00-22:00'): {'regulars': [58, 14, 43, 46], 'temps': 3},\n ('2023/12/23', '16:00-24:00'): {'regulars': [12, 32, 22], 'temps': 5},\n ('2023/12/24', '00:00-08:00'): {'regulars': [9, 16, 55, 48, 6, 18],\n  'temps': 3},\n ('2023/12/24', '05:00-13:00'): {'regulars': [4, 59, 28, 36, 7, 35, 38, 44],\n  'temps': 2},\n ('2023/12/24', '08:00-16:00'): {'regulars': [29, 56, 37, 27, 53], 'temps': 2},\n ('2023/12/24', '12:00-20:00'): {'regulars': [26], 'temps': 1},\n ('2023/12/24', '14:00-22:00'): {'regulars': [45, 40], 'temps': 2},\n ('2023/12/24', '16:00-24:00'): {'regulars': [46], 'temps': 3},\n ('2023/12/25', '00:00-08:00'): {'regulars': [2, 36, 38, 35, 9, 37, 8, 52],\n  'temps': 4},\n ('2023/12/25', '05:00-13:00'): {'regulars': [32, 11, 46], 'temps': 1},\n ('2023/12/25',\n  '08:00-16:00'): {'regulars': [42,\n   39,\n   1,\n   50,\n   30,\n   33,\n   44,\n   14,\n   41,\n   40], 'temps': 2},\n ('2023/12/25', '12:00-20:00'): {'regulars': [42, 36, 4], 'temps': 1},\n ('2023/12/25', '14:00-22:00'): {'regulars': [41, 16], 'temps': 2},\n ('2023/12/25', '16:00-24:00'): {'regulars': [11, 18, 22, 6, 34], 'temps': 2},\n ('2023/12/26', '00:00-08:00'): {'regulars': [46, 32], 'temps': 2},\n ('2023/12/26', '05:00-13:00'): {'regulars': [13, 8, 18, 7, 12, 29, 11, 37, 4],\n  'temps': 1},\n ('2023/12/26', '08:00-16:00'): {'regulars': [4, 23, 7, 41, 8, 20, 34, 17, 52],\n  'temps': 1},\n ('2023/12/26', '12:00-20:00'): {'regulars': [16, 8, 26, 48, 21, 27, 3],\n  'temps': 5},\n ('2023/12/26', '14:00-22:00'): {'regulars': [36], 'temps': 1},\n ('2023/12/26', '16:00-24:00'): {'regulars': [39, 58, 18, 13, 11, 38, 21],\n  'temps': 3},\n ('2023/12/27', '00:00-08:00'): {'regulars': [15, 5, 0, 42, 12, 6, 34],\n  'temps': 1},\n ('2023/12/27', '05:00-13:00'): {'regulars': [12, 41, 52], 'temps': 3},\n ('2023/12/27', '08:00-16:00'): {'regulars': [2], 'temps': 3},\n ('2023/12/27', '12:00-20:00'): {'regulars': [35], 'temps': 1},\n ('2023/12/27', '14:00-22:00'): {'regulars': [47, 10, 37], 'temps': 4},\n ('2023/12/27', '16:00-24:00'): {'regulars': [29, 18, 52, 50, 7, 11],\n  'temps': 1},\n ('2023/12/28', '00:00-08:00'): {'regulars': [39], 'temps': 2},\n ('2023/12/28', '05:00-13:00'): {'regulars': [1, 38, 44], 'temps': 3},\n ('2023/12/28', '08:00-16:00'): {'regulars': [16, 19], 'temps': 4},\n ('2023/12/28', '12:00-20:00'): {'regulars': [27, 7, 15, 30, 34], 'temps': 1},\n ('2023/12/28', '14:00-22:00'): {'regulars': [8, 11, 37], 'temps': 1},\n ('2023/12/28', '16:00-24:00'): {'regulars': [43], 'temps': 3},\n ('2023/12/29',\n  '00:00-08:00'): {'regulars': [13,\n   37,\n   11,\n   54,\n   43,\n   3,\n   19,\n   55,\n   51], 'temps': 1},\n ('2023/12/29',\n  '05:00-13:00'): {'regulars': [27,\n   33,\n   56,\n   9,\n   48,\n   30,\n   52,\n   0,\n   4,\n   49], 'temps': 3},\n ('2023/12/29', '08:00-16:00'): {'regulars': [7, 0, 5, 18], 'temps': 3},\n ('2023/12/29', '12:00-20:00'): {'regulars': [42], 'temps': 2},\n ('2023/12/29', '14:00-22:00'): {'regulars': [47, 12, 57], 'temps': 5},\n ('2023/12/29',\n  '16:00-24:00'): {'regulars': [32,\n   7,\n   33,\n   51,\n   22,\n   30,\n   25,\n   56,\n   34,\n   12], 'temps': 1},\n ('2023/12/30', '00:00-08:00'): {'regulars': [43, 27, 54, 47, 4], 'temps': 3},\n ('2023/12/30', '05:00-13:00'): {'regulars': [5, 56, 39, 53, 14, 29, 30],\n  'temps': 5},\n ('2023/12/30', '08:00-16:00'): {'regulars': [37, 13, 57, 36, 17, 22],\n  'temps': 1},\n ('2023/12/30', '12:00-20:00'): {'regulars': [50, 8, 45], 'temps': 1},\n ('2023/12/30', '14:00-22:00'): {'regulars': [32, 9, 6, 49, 2, 34, 10, 24],\n  'temps': 4},\n ('2023/12/30', '16:00-24:00'): {'regulars': [2], 'temps': 3}}"
     },
     "execution_count": 38,
     "metadata": {},
     "output_type": "execute_result"
    }
   ],
   "source": [
    "def genetic_algorithm():\n",
    "    population = [create_chromosome() for _ in range(population_size)]\n",
    "    for generation in range(num_generations):\n",
    "        population = select(population)\n",
    "        new_generation = []\n",
    "        while len(new_generation) < population_size:\n",
    "            parent1, parent2 = random.sample(population, 2)\n",
    "            child = crossover(parent1, parent2)\n",
    "            if random.random() < 0.04:\n",
    "                child = mutate(child)\n",
    "            new_generation.append(child)\n",
    "        population = new_generation\n",
    "    # 返回适应度最低的染色体，因为我们想最小化总人天数\n",
    "    return min(population, key=calculate_fitness)\n",
    "genetic_algorithm()\n"
   ],
   "metadata": {
    "collapsed": false,
    "ExecuteTime": {
     "end_time": "2024-04-14T05:54:29.876699Z",
     "start_time": "2024-04-14T05:54:29.693302Z"
    }
   },
   "id": "54a0f30ce60d5c22",
   "execution_count": 38
  },
  {
   "cell_type": "code",
   "outputs": [
    {
     "data": {
      "text/plain": "    分拣中心          日期           班次  正式工人数  临时工人数\n0   SC54  2023/12/01  00:00-08:00      7      1\n1   SC54  2023/12/01  05:00-13:00      8      2\n2   SC54  2023/12/01  08:00-16:00      2      3\n3   SC54  2023/12/01  12:00-20:00      3      2\n4   SC54  2023/12/01  14:00-22:00      2      4\n5   SC54  2023/12/01  16:00-24:00      3      2\n6   SC54  2023/12/02  00:00-08:00      8      5\n7   SC54  2023/12/02  05:00-13:00      2      1\n8   SC54  2023/12/02  08:00-16:00      1      3\n9   SC54  2023/12/02  12:00-20:00      4      4\n10  SC54  2023/12/02  14:00-22:00      5      4\n11  SC54  2023/12/02  16:00-24:00      5      2\n12  SC54  2023/12/03  00:00-08:00      4      5\n13  SC54  2023/12/03  05:00-13:00      1      5\n14  SC54  2023/12/03  08:00-16:00      9      4\n15  SC54  2023/12/03  12:00-20:00      5      1\n16  SC54  2023/12/03  14:00-22:00      5      2\n17  SC54  2023/12/03  16:00-24:00      2      2\n18  SC54  2023/12/04  00:00-08:00      5      3\n19  SC54  2023/12/04  05:00-13:00      8      1",
      "text/html": "<div>\n<style scoped>\n    .dataframe tbody tr th:only-of-type {\n        vertical-align: middle;\n    }\n\n    .dataframe tbody tr th {\n        vertical-align: top;\n    }\n\n    .dataframe thead th {\n        text-align: right;\n    }\n</style>\n<table border=\"1\" class=\"dataframe\">\n  <thead>\n    <tr style=\"text-align: right;\">\n      <th></th>\n      <th>分拣中心</th>\n      <th>日期</th>\n      <th>班次</th>\n      <th>正式工人数</th>\n      <th>临时工人数</th>\n    </tr>\n  </thead>\n  <tbody>\n    <tr>\n      <th>0</th>\n      <td>SC54</td>\n      <td>2023/12/01</td>\n      <td>00:00-08:00</td>\n      <td>7</td>\n      <td>1</td>\n    </tr>\n    <tr>\n      <th>1</th>\n      <td>SC54</td>\n      <td>2023/12/01</td>\n      <td>05:00-13:00</td>\n      <td>8</td>\n      <td>2</td>\n    </tr>\n    <tr>\n      <th>2</th>\n      <td>SC54</td>\n      <td>2023/12/01</td>\n      <td>08:00-16:00</td>\n      <td>2</td>\n      <td>3</td>\n    </tr>\n    <tr>\n      <th>3</th>\n      <td>SC54</td>\n      <td>2023/12/01</td>\n      <td>12:00-20:00</td>\n      <td>3</td>\n      <td>2</td>\n    </tr>\n    <tr>\n      <th>4</th>\n      <td>SC54</td>\n      <td>2023/12/01</td>\n      <td>14:00-22:00</td>\n      <td>2</td>\n      <td>4</td>\n    </tr>\n    <tr>\n      <th>5</th>\n      <td>SC54</td>\n      <td>2023/12/01</td>\n      <td>16:00-24:00</td>\n      <td>3</td>\n      <td>2</td>\n    </tr>\n    <tr>\n      <th>6</th>\n      <td>SC54</td>\n      <td>2023/12/02</td>\n      <td>00:00-08:00</td>\n      <td>8</td>\n      <td>5</td>\n    </tr>\n    <tr>\n      <th>7</th>\n      <td>SC54</td>\n      <td>2023/12/02</td>\n      <td>05:00-13:00</td>\n      <td>2</td>\n      <td>1</td>\n    </tr>\n    <tr>\n      <th>8</th>\n      <td>SC54</td>\n      <td>2023/12/02</td>\n      <td>08:00-16:00</td>\n      <td>1</td>\n      <td>3</td>\n    </tr>\n    <tr>\n      <th>9</th>\n      <td>SC54</td>\n      <td>2023/12/02</td>\n      <td>12:00-20:00</td>\n      <td>4</td>\n      <td>4</td>\n    </tr>\n    <tr>\n      <th>10</th>\n      <td>SC54</td>\n      <td>2023/12/02</td>\n      <td>14:00-22:00</td>\n      <td>5</td>\n      <td>4</td>\n    </tr>\n    <tr>\n      <th>11</th>\n      <td>SC54</td>\n      <td>2023/12/02</td>\n      <td>16:00-24:00</td>\n      <td>5</td>\n      <td>2</td>\n    </tr>\n    <tr>\n      <th>12</th>\n      <td>SC54</td>\n      <td>2023/12/03</td>\n      <td>00:00-08:00</td>\n      <td>4</td>\n      <td>5</td>\n    </tr>\n    <tr>\n      <th>13</th>\n      <td>SC54</td>\n      <td>2023/12/03</td>\n      <td>05:00-13:00</td>\n      <td>1</td>\n      <td>5</td>\n    </tr>\n    <tr>\n      <th>14</th>\n      <td>SC54</td>\n      <td>2023/12/03</td>\n      <td>08:00-16:00</td>\n      <td>9</td>\n      <td>4</td>\n    </tr>\n    <tr>\n      <th>15</th>\n      <td>SC54</td>\n      <td>2023/12/03</td>\n      <td>12:00-20:00</td>\n      <td>5</td>\n      <td>1</td>\n    </tr>\n    <tr>\n      <th>16</th>\n      <td>SC54</td>\n      <td>2023/12/03</td>\n      <td>14:00-22:00</td>\n      <td>5</td>\n      <td>2</td>\n    </tr>\n    <tr>\n      <th>17</th>\n      <td>SC54</td>\n      <td>2023/12/03</td>\n      <td>16:00-24:00</td>\n      <td>2</td>\n      <td>2</td>\n    </tr>\n    <tr>\n      <th>18</th>\n      <td>SC54</td>\n      <td>2023/12/04</td>\n      <td>00:00-08:00</td>\n      <td>5</td>\n      <td>3</td>\n    </tr>\n    <tr>\n      <th>19</th>\n      <td>SC54</td>\n      <td>2023/12/04</td>\n      <td>05:00-13:00</td>\n      <td>8</td>\n      <td>1</td>\n    </tr>\n  </tbody>\n</table>\n</div>"
     },
     "execution_count": 40,
     "metadata": {},
     "output_type": "execute_result"
    }
   ],
   "source": [
    "import pandas as pd\n",
    "\n",
    "def genetic_algorithm_for_all_centers():\n",
    "    results = {}\n",
    "    for center in data['分拣中心'].unique():\n",
    "        # 过滤特定分拣中心的数据\n",
    "        center_data = data[data['分拣中心'] == center]\n",
    "\n",
    "        # 按日期和班次整理每小时数据\n",
    "        shift_data = {}\n",
    "        for shift, hours in shifts.items():\n",
    "            mask = center_data['小时'].isin(hours)\n",
    "            grouped = center_data.loc[mask].groupby('日期')['货量'].sum()\n",
    "            shift_data[shift] = grouped.to_dict()\n",
    "\n",
    "        dates = sorted(center_data['日期'].unique())\n",
    "\n",
    "        population = [create_chromosome() for _ in range(population_size)]\n",
    "        for generation in range(num_generations):\n",
    "            population = select(population)\n",
    "            new_generation = []\n",
    "            while len(new_generation) < population_size:\n",
    "                parent1, parent2 = random.sample(population, 2)\n",
    "                child = crossover(parent1, parent2)\n",
    "                if random.random() < 0.04:\n",
    "                    child = mutate(child)\n",
    "                new_generation.append(child)\n",
    "            population = new_generation\n",
    "        best_solution = min(population, key=calculate_fitness)\n",
    "        results[center] = best_solution\n",
    "    return results\n",
    "\n",
    "best_chromosomes = genetic_algorithm_for_all_centers()\n",
    "\n",
    "columns = ['分拣中心', '日期', '班次', '正式工人数', '临时工人数']\n",
    "results_df = pd.DataFrame(columns=columns)\n",
    "shift_counts = {}\n",
    "\n",
    "for center, best_chromosome in best_chromosomes.items():\n",
    "    for (date, shift), value in best_chromosome.items():\n",
    "        key = (center, date, shift)\n",
    "        if key not in shift_counts:\n",
    "            shift_counts[key] = {'正式工人数': 0, '临时工人数': 0}\n",
    "        shift_counts[key]['正式工人数'] += len(value['regulars'])\n",
    "        shift_counts[key]['临时工人数'] += value['temps']\n",
    "\n",
    "rows = [\n",
    "    {'分拣中心': k[0], '日期': k[1], '班次': k[2], '正式工人数': v['正式工人数'], '临时工人数': v['临时工人数']}\n",
    "    for k, v in shift_counts.items()\n",
    "]\n",
    "results_df = pd.DataFrame(rows, columns=columns)\n",
    "\n",
    "results_df.head(20)\n"
   ],
   "metadata": {
    "collapsed": false,
    "ExecuteTime": {
     "end_time": "2024-04-14T05:58:16.689890Z",
     "start_time": "2024-04-14T05:58:06.342517Z"
    }
   },
   "id": "31232a867f775cac",
   "execution_count": 40
  },
  {
   "cell_type": "code",
   "outputs": [
    {
     "name": "stdout",
     "output_type": "stream",
     "text": [
      "数据已经成功保存到结果5.csv文件中。\n"
     ]
    }
   ],
   "source": [
    "results_df.to_csv('结果5.csv', index=False, encoding='utf-8-sig')\n",
    "\n",
    "print(\"数据已经成功保存到结果5.csv文件中。\")"
   ],
   "metadata": {
    "collapsed": false,
    "ExecuteTime": {
     "end_time": "2024-04-14T05:58:21.716276Z",
     "start_time": "2024-04-14T05:58:21.699729Z"
    }
   },
   "id": "f1ece71d09e8cdf6",
   "execution_count": 41
  },
  {
   "cell_type": "code",
   "outputs": [],
   "source": [],
   "metadata": {
    "collapsed": false
   },
   "id": "d290ecffff70a837"
  }
 ],
 "metadata": {
  "kernelspec": {
   "display_name": "Python 3",
   "language": "python",
   "name": "python3"
  },
  "language_info": {
   "codemirror_mode": {
    "name": "ipython",
    "version": 2
   },
   "file_extension": ".py",
   "mimetype": "text/x-python",
   "name": "python",
   "nbconvert_exporter": "python",
   "pygments_lexer": "ipython2",
   "version": "2.7.6"
  }
 },
 "nbformat": 4,
 "nbformat_minor": 5
}
