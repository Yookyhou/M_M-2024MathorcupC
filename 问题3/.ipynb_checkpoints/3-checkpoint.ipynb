{
 "cells": [
  {
   "cell_type": "markdown",
   "source": [
    "# 目的\n",
    "我们的目标是最小化分拣中心在30天内各个班次所需的正式工和临时工的总人数。\n",
    "\n",
    "# 参数\n",
    "- **正式工的数量上限**：每个班次中可用的正式工人数固定为60人。\n",
    "- **正式工和临时工的工作效率**：\n",
    "  - 正式工的工作效率为每小时处理25单位货物。\n",
    "  - 临时工的工作效率为每小时处理20单位货物。\n",
    "\n",
    "# 变量\n",
    "- **正式工人数**：每个班次安排的正式工人数。\n",
    "- **临时工人数**：每个班次安排的临时工人数。\n",
    "\n",
    "# 约束条件\n",
    "- **货物处理需求**：在每个班次中，安排的正式工和临时工必须足以处理该班次预测的总货物量。\n",
    "- **正式工数量限制**：在每个班次中安排的正式工人数不能超过60人。\n",
    "- **正式工出勤限制**：每位正式工在每一天只能安排至一个班次。\n",
    "- **非负约束**：\n",
    "  - 正式工人数 ≥ 0。\n",
    "  - 临时工人数 ≥ 0。\n",
    "\n",
    "# 数学模型\n",
    "\n",
    "## 目标函数\n",
    "- **最小化各班次正式工人数 + 各班次临时工人数**：\n",
    "  - 这个函数确保了我们在满足所有需求的情况下使用尽可能少的总工人数。\n",
    "\n",
    "## 约束条件\n",
    "- **货量需求约束**：正式工人数×正式工效率 + 临时工人数×临时工效率 ≥ 该班次预测的货量。\n",
    "- **正式工人数限制**：每班次的正式工人数 ≤ 60。\n",
    "- **非负约束**：\n",
    "  - 正式工人数 ≥ 0。\n",
    "  - 临时工人数 ≥ 0。\n",
    "\n",
    "# 求解过程\n",
    "1. 为每个分拣中心、每个日期和每个班次创建一个线性规划问题。\n",
    "2. 定义决策变量代表每个班次的正式工和临时工人数。\n",
    "3. 添加目标函数和约束到模型中。\n",
    "4. 使用线性规划求解器（PuLP提供）来找到最优解。\n",
    "5. 收集求解结果，这包括每个班次的正式工和临时工的最优人数。\n"
   ],
   "metadata": {
    "collapsed": false
   },
   "id": "88d29e300afb623a"
  },
  {
   "cell_type": "code",
   "execution_count": null,
   "id": "initial_id",
   "metadata": {
    "collapsed": true
   },
   "outputs": [],
   "source": [
    "import pandas as pd\n",
    "import numpy as np\n",
    "from pulp import LpProblem, LpMinimize, LpVariable, lpSum, LpBinary, LpInteger\n",
    "\n",
    "data = pd.read_csv('结果4.csv')\n",
    "\n",
    "# 定义班次时间范围\n",
    "shifts = {\n",
    "    \"00:00-08:00\": range(0, 8),\n",
    "    \"05:00-13:00\": range(5, 13),\n",
    "    \"08:00-16:00\": range(8, 16),\n",
    "    \"12:00-20:00\": range(12, 20),\n",
    "    \"14:00-22:00\": range(14, 22),\n",
    "    \"16:00-24:00\": range(16, 24)\n",
    "}\n",
    "\n",
    "# 循环每个分拣中心执行优化\n",
    "for center in data['分拣中心'].unique():\n",
    "    center_data = data[data['分拣中心'] == center]\n",
    "    \n",
    "    # 按日期和班次整理每小时数据\n",
    "    shift_data = {}\n",
    "    for shift, hours in shifts.items():\n",
    "        mask = center_data['小时'].isin(hours)\n",
    "        grouped = center_data.loc[mask].groupby('日期')['货量'].sum()\n",
    "        shift_data[shift] = grouped\n",
    "\n",
    "    # 初始化模型\n",
    "    model = LpProblem(f\"Staff_Scheduling_{center}\", LpMinimize)\n",
    "\n",
    "    # 定义变量\n",
    "    workers = range(1, 61)  # 假设有200名正式工\n",
    "    dates = center_data['日期'].unique()\n",
    "    x = LpVariable.dicts(\"Regular\", [(date, shift, worker) for date in dates for shift in shifts for worker in workers], 0, 1, LpBinary)\n",
    "    y = LpVariable.dicts(\"Temp\", [(date, shift) for date in dates for shift in shifts], 0, None, LpInteger)\n",
    "\n",
    "    # 目标函数：最小化总人天数\n",
    "    model += lpSum(x.values()) + lpSum(y.values())\n",
    "\n",
    "    # 添加货量需求约束\n",
    "    for shift, demands in shift_data.items():\n",
    "        for date, demand in demands.items():\n",
    "            model += (lpSum(25 * x[(date, shift, worker)] for worker in workers) + 20 * y[(date, shift)] >= demand, f\"Cargo_Requirement_{date}_{shift}\")\n",
    "\n",
    "    # 正式工每天只能安排一个班次的约束\n",
    "    for worker in workers:\n",
    "        for date in dates:\n",
    "            model += lpSum(x[(date, shift, worker)] for shift in shifts) <= 1, f\"One_Shift_Per_Day_{worker}_{date}\"\n",
    "\n",
    "    # 求解模型\n",
    "    model.solve()\n"
   ]
  },
  {
   "cell_type": "code",
   "outputs": [],
   "source": [
    "import pandas as pd\n",
    "\n",
    "results_df = pd.DataFrame([\n",
    "    {'分拣中心': center, '日期': date, '班次': shift, '出勤员工': f'正式工{worker}'}\n",
    "    for center in data['分拣中心'].unique()\n",
    "    for date in dates \n",
    "    for shift in shifts \n",
    "    for worker in workers \n",
    "    if x[(date, shift, worker)].varValue == 1\n",
    "] + [\n",
    "    {'分拣中心': center, '日期': date, '班次': shift, '出勤员工': f'临时工{int(y[(date, shift)].varValue)}人'}\n",
    "    for center in data['分拣中心'].unique()\n",
    "    for date in dates \n",
    "    for shift in shifts \n",
    "    if y[(date, shift)].varValue > 0\n",
    "])\n",
    "\n",
    "results_df.to_csv('5.csv', index=False, encoding='utf-8-sig')"
   ],
   "metadata": {
    "collapsed": false
   },
   "id": "a589f267ce8158d5"
  },
  {
   "cell_type": "markdown",
   "source": [
    "# 写作要点\n",
    "- **线性规划 (Linear Programming)**\n",
    "- **整数规划 (Integer Programming)**\n",
    "- **PuLP (一个Python库)**\n",
    "- **除此之外，把上面提到的文字叙述的公式，转换成数学符号，记得在文前介绍你的数学符号意义**"
   ],
   "metadata": {
    "collapsed": false
   },
   "id": "74065615d179dd8e"
  },
  {
   "cell_type": "code",
   "outputs": [],
   "source": [],
   "metadata": {
    "collapsed": false
   },
   "id": "fae25dca0f4da4dd"
  }
 ],
 "metadata": {
  "kernelspec": {
   "display_name": "Python 3",
   "language": "python",
   "name": "python3"
  },
  "language_info": {
   "codemirror_mode": {
    "name": "ipython",
    "version": 2
   },
   "file_extension": ".py",
   "mimetype": "text/x-python",
   "name": "python",
   "nbconvert_exporter": "python",
   "pygments_lexer": "ipython2",
   "version": "2.7.6"
  }
 },
 "nbformat": 4,
 "nbformat_minor": 5
}
